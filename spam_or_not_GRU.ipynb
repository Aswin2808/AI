{
  "nbformat": 4,
  "nbformat_minor": 0,
  "metadata": {
    "colab": {
      "provenance": [],
      "authorship_tag": "ABX9TyMXj+uZXw7LjyiKiYXK6E9C",
      "include_colab_link": true
    },
    "kernelspec": {
      "name": "python3",
      "display_name": "Python 3"
    },
    "language_info": {
      "name": "python"
    }
  },
  "cells": [
    {
      "cell_type": "markdown",
      "metadata": {
        "id": "view-in-github",
        "colab_type": "text"
      },
      "source": [
        "<a href=\"https://colab.research.google.com/github/Aswin2808/AI/blob/main/spam_or_not_GRU.ipynb\" target=\"_parent\"><img src=\"https://colab.research.google.com/assets/colab-badge.svg\" alt=\"Open In Colab\"/></a>"
      ]
    },
    {
      "cell_type": "code",
      "source": [
        "import pandas as pd\n",
        "from tensorflow.keras.preprocessing.text import Tokenizer\n",
        "from tensorflow.keras.preprocessing.sequence import pad_sequences\n",
        "from sklearn.preprocessing import LabelEncoder\n",
        "from tensorflow.keras.models import Sequential\n",
        "from tensorflow.keras.layers import Embedding, GRU, Dense\n"
      ],
      "metadata": {
        "id": "7aHqMTEcrPOB"
      },
      "execution_count": 15,
      "outputs": []
    },
    {
      "cell_type": "code",
      "source": [
        "# Load the dataset in one line and select relevant columns\n",
        "data_df = pd.read_csv('/content/drive/MyDrive/spam.csv', encoding='latin1', usecols=[0, 1], names=['label', 'text'], header=0)\n",
        "\n",
        "# Inspect the first few rows to ensure it is loaded correctly\n",
        "print(data_df.head())\n"
      ],
      "metadata": {
        "colab": {
          "base_uri": "https://localhost:8080/"
        },
        "id": "udjpqkrHsBI1",
        "outputId": "44a14cdd-b730-4893-f3f8-2528128bd90f"
      },
      "execution_count": 16,
      "outputs": [
        {
          "output_type": "stream",
          "name": "stdout",
          "text": [
            "  label                                               text\n",
            "0   ham  Go until jurong point, crazy.. Available only ...\n",
            "1   ham                      Ok lar... Joking wif u oni...\n",
            "2  spam  Free entry in 2 a wkly comp to win FA Cup fina...\n",
            "3   ham  U dun say so early hor... U c already then say...\n",
            "4   ham  Nah I don't think he goes to usf, he lives aro...\n"
          ]
        }
      ]
    },
    {
      "cell_type": "code",
      "source": [
        "# Preprocess the data\n",
        "tokenizer = Tokenizer(num_words=10000)\n",
        "tokenizer.fit_on_texts(data_df['text'].tolist())\n",
        "\n",
        "sequences = tokenizer.texts_to_sequences(data_df['text'].tolist())\n",
        "max_length = 100\n",
        "X = pad_sequences(sequences, maxlen=max_length)\n",
        "\n",
        "le = LabelEncoder()\n",
        "y = le.fit_transform(data_df['label'])"
      ],
      "metadata": {
        "id": "xntfGB3-sHFu"
      },
      "execution_count": 18,
      "outputs": []
    },
    {
      "cell_type": "code",
      "source": [
        "# Build the GRU model\n",
        "vocab_size = 10000\n",
        "embedding_dim = 100\n",
        "\n",
        "model = Sequential()\n",
        "model.add(Embedding(input_dim=vocab_size, output_dim=embedding_dim, input_length=max_length))\n",
        "model.add(GRU(128, return_sequences=True))\n",
        "model.add(GRU(64))\n",
        "model.add(Dense(1, activation='sigmoid'))\n",
        "\n",
        "model.compile(optimizer='adam', loss='binary_crossentropy', metrics=['accuracy'])"
      ],
      "metadata": {
        "id": "338Ub_S-sMrb"
      },
      "execution_count": 19,
      "outputs": []
    },
    {
      "cell_type": "code",
      "source": [
        "# Train the model with validation split\n",
        "model.fit(X, y, epochs=10, batch_size=32, validation_split=0.2)"
      ],
      "metadata": {
        "colab": {
          "base_uri": "https://localhost:8080/"
        },
        "id": "pb0CgFNdsTpb",
        "outputId": "1b595605-5210-4581-ae9b-438c90dcdbb9"
      },
      "execution_count": 20,
      "outputs": [
        {
          "output_type": "stream",
          "name": "stdout",
          "text": [
            "Epoch 1/10\n",
            "140/140 [==============================] - 37s 228ms/step - loss: 0.1401 - accuracy: 0.9536 - val_loss: 0.0521 - val_accuracy: 0.9839\n",
            "Epoch 2/10\n",
            "140/140 [==============================] - 31s 222ms/step - loss: 0.0196 - accuracy: 0.9953 - val_loss: 0.0455 - val_accuracy: 0.9874\n",
            "Epoch 3/10\n",
            "140/140 [==============================] - 30s 214ms/step - loss: 0.0048 - accuracy: 0.9991 - val_loss: 0.0441 - val_accuracy: 0.9874\n",
            "Epoch 4/10\n",
            "140/140 [==============================] - 31s 221ms/step - loss: 0.0019 - accuracy: 0.9996 - val_loss: 0.0550 - val_accuracy: 0.9883\n",
            "Epoch 5/10\n",
            "140/140 [==============================] - 30s 211ms/step - loss: 4.3660e-04 - accuracy: 1.0000 - val_loss: 0.0533 - val_accuracy: 0.9865\n",
            "Epoch 6/10\n",
            "140/140 [==============================] - 30s 213ms/step - loss: 1.3754e-04 - accuracy: 1.0000 - val_loss: 0.0588 - val_accuracy: 0.9883\n",
            "Epoch 7/10\n",
            "140/140 [==============================] - 33s 235ms/step - loss: 6.6457e-05 - accuracy: 1.0000 - val_loss: 0.0624 - val_accuracy: 0.9883\n",
            "Epoch 8/10\n",
            "140/140 [==============================] - 30s 213ms/step - loss: 4.5982e-05 - accuracy: 1.0000 - val_loss: 0.0647 - val_accuracy: 0.9883\n",
            "Epoch 9/10\n",
            "140/140 [==============================] - 30s 212ms/step - loss: 3.5339e-05 - accuracy: 1.0000 - val_loss: 0.0663 - val_accuracy: 0.9883\n",
            "Epoch 10/10\n",
            "140/140 [==============================] - 34s 243ms/step - loss: 2.8409e-05 - accuracy: 1.0000 - val_loss: 0.0672 - val_accuracy: 0.9883\n"
          ]
        },
        {
          "output_type": "execute_result",
          "data": {
            "text/plain": [
              "<keras.src.callbacks.History at 0x7e5f85347d00>"
            ]
          },
          "metadata": {},
          "execution_count": 20
        }
      ]
    },
    {
      "cell_type": "code",
      "source": [
        "# Predict the class of a new message\n",
        "input_text = [\"Had your contract mobile 11 Mnths? Latest Motorola, Nokia etc. all FREE! Double Mins & Text on Orange tariffs. TEXT YES for callback, no to remove from records.\"]\n",
        "input_sequence = tokenizer.texts_to_sequences(input_text)\n",
        "input_padded = pad_sequences(input_sequence, maxlen=max_length)\n",
        "\n",
        "prediction = model.predict(input_padded)\n",
        "label = \"spam\" if prediction >= 0.5 else \"ham\"\n",
        "print(f'The message is: {label}')"
      ],
      "metadata": {
        "colab": {
          "base_uri": "https://localhost:8080/"
        },
        "id": "VgnG7uOKuFih",
        "outputId": "36bb7bac-641c-49e2-f377-cf83bcd1cfd0"
      },
      "execution_count": 23,
      "outputs": [
        {
          "output_type": "stream",
          "name": "stdout",
          "text": [
            "1/1 [==============================] - 0s 59ms/step\n",
            "The message is: spam\n"
          ]
        }
      ]
    }
  ]
}