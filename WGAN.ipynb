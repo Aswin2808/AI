{
  "nbformat": 4,
  "nbformat_minor": 0,
  "metadata": {
    "colab": {
      "provenance": [],
      "gpuType": "V28",
      "authorship_tag": "ABX9TyNs4FiwH7Lo02jRJAsaA0Km",
      "include_colab_link": true
    },
    "kernelspec": {
      "name": "python3",
      "display_name": "Python 3"
    },
    "language_info": {
      "name": "python"
    },
    "accelerator": "TPU"
  },
  "cells": [
    {
      "cell_type": "markdown",
      "metadata": {
        "id": "view-in-github",
        "colab_type": "text"
      },
      "source": [
        "<a href=\"https://colab.research.google.com/github/Aswin2808/AI/blob/main/WGAN.ipynb\" target=\"_parent\"><img src=\"https://colab.research.google.com/assets/colab-badge.svg\" alt=\"Open In Colab\"/></a>"
      ]
    },
    {
      "cell_type": "code",
      "source": [
        "from IPython.display import clear_output\n",
        "import tensorflow as tf\n",
        "from tensorflow.keras import layers\n",
        "import numpy as np\n",
        "import os\n",
        "import time\n",
        "from matplotlib import pyplot as plt\n",
        "\n",
        "# Ensure TensorFlow 2.x is being used\n",
        "assert tf.__version__.startswith('2.')\n",
        "\n",
        "# Parameters\n",
        "EPOCHS = 50\n",
        "noise_dim = 100\n",
        "num_examples_to_generate = 16\n",
        "num_classes = 10\n",
        "\n",
        "# Seed for visualizing progress\n",
        "seed = tf.random.normal([num_examples_to_generate, noise_dim])\n",
        "seed_labels = np.random.randint(0, num_classes, num_examples_to_generate)\n",
        "\n",
        "# CIFAR-10 specific parameters\n",
        "BUFFER_SIZE = 50000\n",
        "BATCH_SIZE = 256\n",
        "IMAGE_SIZE = 32\n",
        "CHANNELS = 3\n"
      ],
      "metadata": {
        "id": "ml6n91Z593C8"
      },
      "execution_count": 10,
      "outputs": []
    },
    {
      "cell_type": "code",
      "source": [
        "def build_generator():\n",
        "    noise = layers.Input(shape=(noise_dim,))\n",
        "    label = layers.Input(shape=(1,), dtype='int32')\n",
        "    label_embedding = layers.Embedding(num_classes, noise_dim)(label)\n",
        "    label_embedding = layers.Flatten()(label_embedding)\n",
        "\n",
        "    model_input = layers.multiply([noise, label_embedding])\n",
        "\n",
        "    x = layers.Dense(8*8*256, use_bias=False)(model_input)\n",
        "    x = layers.BatchNormalization()(x)\n",
        "    x = layers.LeakyReLU()(x)\n",
        "\n",
        "    x = layers.Reshape((8, 8, 256))(x)\n",
        "    assert x.shape == (None, 8, 8, 256)\n",
        "\n",
        "    x = layers.Conv2DTranspose(128, (5, 5), strides=(1, 1), padding='same', use_bias=False)(x)\n",
        "    x = layers.BatchNormalization()(x)\n",
        "    x = layers.LeakyReLU()(x)\n",
        "\n",
        "    x = layers.Conv2DTranspose(64, (5, 5), strides=(2, 2), padding='same', use_bias=False)(x)\n",
        "    x = layers.BatchNormalization()(x)\n",
        "    x = layers.LeakyReLU()(x)\n",
        "\n",
        "    x = layers.Conv2DTranspose(CHANNELS, (5, 5), strides=(2, 2), padding='same', use_bias=False, activation='tanh')(x)\n",
        "    assert x.shape == (None, IMAGE_SIZE, IMAGE_SIZE, CHANNELS)\n",
        "\n",
        "    return tf.keras.Model([noise, label], x)\n"
      ],
      "metadata": {
        "id": "cbqRd0-D2yl1"
      },
      "execution_count": 12,
      "outputs": []
    },
    {
      "cell_type": "code",
      "source": [
        "def build_discriminator():\n",
        "    image = layers.Input(shape=(IMAGE_SIZE, IMAGE_SIZE, CHANNELS))\n",
        "    label = layers.Input(shape=(1,), dtype='int32')\n",
        "    label_embedding = layers.Embedding(num_classes, IMAGE_SIZE * IMAGE_SIZE * CHANNELS)(label)\n",
        "    label_embedding = layers.Flatten()(label_embedding)\n",
        "    label_embedding = layers.Reshape((IMAGE_SIZE, IMAGE_SIZE, CHANNELS))(label_embedding)\n",
        "\n",
        "    model_input = layers.concatenate([image, label_embedding])\n",
        "\n",
        "    x = layers.Conv2D(64, (5, 5), strides=(2, 2), padding='same')(model_input)\n",
        "    x = layers.LeakyReLU()(x)\n",
        "    x = layers.Dropout(0.3)(x)\n",
        "\n",
        "    x = layers.Conv2D(128, (5, 5), strides=(2, 2), padding='same')(x)\n",
        "    x = layers.LeakyReLU()(x)\n",
        "    x = layers.Dropout(0.3)(x)\n",
        "\n",
        "    x = layers.Flatten()(x)\n",
        "    x = layers.Dense(1)(x)\n",
        "\n",
        "    return tf.keras.Model([image, label], x)\n"
      ],
      "metadata": {
        "id": "JiJSR6N13VJ7"
      },
      "execution_count": 14,
      "outputs": []
    },
    {
      "cell_type": "code",
      "source": [
        "def discriminator_loss(real_output, fake_output):\n",
        "    return tf.reduce_mean(fake_output) - tf.reduce_mean(real_output)\n",
        "\n",
        "def generator_loss(fake_output):\n",
        "    return -tf.reduce_mean(fake_output)\n",
        "\n",
        "def gradient_penalty(discriminator, real_images, fake_images, real_labels):\n",
        "    alpha = tf.random.normal([real_images.shape[0], 1, 1, 1], 0.0, 1.0)\n",
        "    interpolated = alpha * real_images + (1 - alpha) * fake_images\n",
        "    with tf.GradientTape() as tape:\n",
        "        tape.watch(interpolated)\n",
        "        interpolated_output = discriminator([interpolated, real_labels], training=True)\n",
        "    gradients = tape.gradient(interpolated_output, [interpolated])[0]\n",
        "    gradients_sqr = tf.square(gradients)\n",
        "    gradients_sqr_sum = tf.reduce_sum(gradients_sqr, axis=[1, 2, 3])\n",
        "    gradient_l2_norm = tf.sqrt(gradients_sqr_sum)\n",
        "    gradient_penalty = tf.reduce_mean((gradient_l2_norm - 1.0) ** 2)\n",
        "    return gradient_penalty\n",
        "\n",
        "generator = build_generator()\n",
        "discriminator = build_discriminator()\n",
        "\n",
        "generator_optimizer = tf.keras.optimizers.Adam(1e-4, beta_1=0.5, beta_2=0.9)\n",
        "discriminator_optimizer = tf.keras.optimizers.Adam(1e-4, beta_1=0.5, beta_2=0.9)\n"
      ],
      "metadata": {
        "id": "hAkD4FLI3W2a"
      },
      "execution_count": 15,
      "outputs": []
    },
    {
      "cell_type": "code",
      "source": [
        "@tf.function\n",
        "def train_step(images, labels):\n",
        "    noise = tf.random.normal([BATCH_SIZE, noise_dim])\n",
        "    generated_labels = tf.random.uniform([BATCH_SIZE], minval=0, maxval=num_classes, dtype=tf.int32)\n",
        "\n",
        "    for _ in range(5):\n",
        "        with tf.GradientTape() as disc_tape:\n",
        "            generated_images = generator([noise, generated_labels], training=True)\n",
        "            real_output = discriminator([images, labels], training=True)\n",
        "            fake_output = discriminator([generated_images, generated_labels], training=True)\n",
        "            gp = gradient_penalty(discriminator, images, generated_images, labels)\n",
        "            disc_loss = discriminator_loss(real_output, fake_output) + 10.0 * gp\n",
        "\n",
        "        gradients_of_discriminator = disc_tape.gradient(disc_loss, discriminator.trainable_variables)\n",
        "        discriminator_optimizer.apply_gradients(zip(gradients_of_discriminator, discriminator.trainable_variables))\n",
        "\n",
        "    with tf.GradientTape() as gen_tape:\n",
        "        generated_images = generator([noise, generated_labels], training=True)\n",
        "        fake_output = discriminator([generated_images, generated_labels], training=True)\n",
        "        gen_loss = generator_loss(fake_output)\n",
        "\n",
        "    gradients_of_generator = gen_tape.gradient(gen_loss, generator.trainable_variables)\n",
        "    generator_optimizer.apply_gradients(zip(gradients_of_generator, generator.trainable_variables))\n",
        "\n",
        "def train(dataset, epochs):\n",
        "    for epoch in range(epochs):\n",
        "        start = time.time()\n",
        "\n",
        "        for image_batch, label_batch in dataset:\n",
        "            train_step(image_batch, label_batch)\n",
        "\n",
        "        # Produce images for the GIF as we go\n",
        "        clear_output(wait=True)\n",
        "        generate_and_save_images(generator, epoch + 1, seed, seed_labels)\n",
        "\n",
        "        print(f'Time for epoch {epoch + 1} is {time.time() - start} sec')\n",
        "\n",
        "    clear_output(wait=True)\n",
        "    generate_and_save_images(generator, epochs, seed, seed_labels)\n"
      ],
      "metadata": {
        "id": "S1ohWmnW3YXZ"
      },
      "execution_count": 17,
      "outputs": []
    },
    {
      "cell_type": "code",
      "source": [
        "def generate_and_save_images(model, epoch, test_input, labels):\n",
        "    predictions = model([test_input, labels], training=False)\n",
        "\n",
        "    fig = plt.figure(figsize=(4, 4))\n",
        "\n",
        "    for i in range(predictions.shape[0]):\n",
        "        plt.subplot(4, 4, i+1)\n",
        "        plt.imshow((predictions[i] * 0.5 + 0.5))  # Rescale to [0, 1]\n",
        "        plt.axis('off')\n",
        "\n",
        "    plt.savefig(f'image_at_epoch_{epoch:04d}.png')\n",
        "    plt.show()\n"
      ],
      "metadata": {
        "id": "cF-aHRh83chm"
      },
      "execution_count": 18,
      "outputs": []
    },
    {
      "cell_type": "code",
      "source": [
        "(train_images, train_labels), (_, _) = tf.keras.datasets.cifar10.load_data()\n",
        "train_images = train_images.astype('float32')\n",
        "train_images = (train_images - 127.5) / 127.5  # Normalize to [-1, 1]\n",
        "\n",
        "# Batch and shuffle the data\n",
        "train_dataset = tf.data.Dataset.from_tensor_slices((train_images, train_labels)).shuffle(BUFFER_SIZE).batch(BATCH_SIZE)\n"
      ],
      "metadata": {
        "id": "AjRrdcjU3fwv"
      },
      "execution_count": 19,
      "outputs": []
    },
    {
      "cell_type": "code",
      "source": [
        "train(train_dataset, EPOCHS)\n"
      ],
      "metadata": {
        "id": "WwjItfrN3h7U"
      },
      "execution_count": null,
      "outputs": []
    }
  ]
}